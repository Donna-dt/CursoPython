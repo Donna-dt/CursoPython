{
 "cells": [
  {
   "cell_type": "markdown",
   "metadata": {},
   "source": [
    "# PROBLEMAS DIVERSOS"
   ]
  },
  {
   "cell_type": "markdown",
   "metadata": {},
   "source": [
    "<h3>1.</h3>\n",
    "Realizar una función que permita la carga de n alumnos. Por cada alumno se deberá preguntar el nombre completo y permitir el ingreso de 3 notas. Las notas deben estar comprendidas entre 0 y 10. Devolver el listado de alumnos."
   ]
  },
  {
   "cell_type": "code",
   "execution_count": 1,
   "metadata": {},
   "outputs": [
    {
     "name": "stdout",
     "output_type": "stream",
     "text": [
      "\n",
      "\n",
      "1. Añadir\n",
      "2. Listar\n",
      "3. Salir\n"
     ]
    },
    {
     "name": "stdin",
     "output_type": "stream",
     "text": [
      "Ingrese opción: 2\n"
     ]
    },
    {
     "name": "stdout",
     "output_type": "stream",
     "text": [
      "\n",
      "\n",
      "1. Añadir\n",
      "2. Listar\n",
      "3. Salir\n"
     ]
    },
    {
     "name": "stdin",
     "output_type": "stream",
     "text": [
      "Ingrese opción: 1\n",
      "Nombre del alumno: Donna\n",
      "Ingrese la nota 1: 12\n"
     ]
    },
    {
     "name": "stdout",
     "output_type": "stream",
     "text": [
      "Nota fuera de rango\n"
     ]
    }
   ],
   "source": [
    "alumnos = {}\n",
    "while True:\n",
    "    print(\"\\n\")\n",
    "    print(\"1. Añadir\")\n",
    "    print(\"2. Listar\")\n",
    "    print(\"3. Salir\")\n",
    "    \n",
    "    opcion = int(input(\"Ingrese opción:\"))\n",
    "    if opcion == 1:\n",
    "        nombre = input(\"Nombre del alumno:\")    \n",
    "        nota1 = int(input(\"Ingrese la nota 1:\"))\n",
    "        if (nota1 <= 10):\n",
    "            print(\"Nota ingresada correctamente\")\n",
    "        else:\n",
    "                print(\"Nota fuera de rango\")\n",
    "                break\n",
    "        nota2 = int(input(\"Ingrese la nota 2:\"))\n",
    "        if (nota2 <= 10):\n",
    "            print(\"Nota ingresada correctamente\")\n",
    "        else:\n",
    "                print(\"Nota fuera de rango\")\n",
    "                break\n",
    "        nota3 = int(input(\"Ingrese la nota 3:\"))\n",
    "        if (nota3 <= 10):\n",
    "            print(\"Nota ingresada correctamente\")\n",
    "        else:\n",
    "                print(\"Nota fuera de rango\")\n",
    "                break\n",
    "        alumnos[nombre]=nota1,nota2,nota3\n",
    "    elif opcion == 2:\n",
    "        for nombre, nota1 in alumnos.items():\n",
    "            print(nombre,\"->\",nota1)\n",
    "    elif opcion == 3:\n",
    "        break\n",
    "    else:\n",
    "        print(\"Opción incorrecta\")"
   ]
  },
  {
   "cell_type": "markdown",
   "metadata": {},
   "source": [
    "### 2.\n",
    "Definir una función que dado un listado de alumnos evalúe cuántos aprobaron y cuántos desaprobaron, teniendo en cuenta que se aprueba con 4. La nota será el promedio de las 3 notas para cada alumno."
   ]
  },
  {
   "cell_type": "code",
   "execution_count": null,
   "metadata": {},
   "outputs": [],
   "source": []
  },
  {
   "cell_type": "markdown",
   "metadata": {},
   "source": [
    "### 3.\n",
    "Informar el promedio de nota del curso total."
   ]
  },
  {
   "cell_type": "code",
   "execution_count": null,
   "metadata": {},
   "outputs": [],
   "source": []
  },
  {
   "cell_type": "markdown",
   "metadata": {},
   "source": [
    "### 4.\n",
    "Realizar una función que indique quién tuvo el promedio más alto y quién tuvo la nota promedio más baja."
   ]
  },
  {
   "cell_type": "code",
   "execution_count": null,
   "metadata": {},
   "outputs": [],
   "source": []
  },
  {
   "cell_type": "markdown",
   "metadata": {},
   "source": [
    "### 5. \n",
    "Realizar una función que permita buscar un alumno por nombre, siendo el nombre completo o parcial, y devuelva una lista con los n alumnos que concuerden con ese nombre junto con todos sus datos, incluido el promedio de sus notas."
   ]
  },
  {
   "cell_type": "code",
   "execution_count": null,
   "metadata": {},
   "outputs": [],
   "source": []
  }
 ],
 "metadata": {
  "kernelspec": {
   "display_name": "Python 3",
   "language": "python",
   "name": "python3"
  },
  "language_info": {
   "codemirror_mode": {
    "name": "ipython",
    "version": 3
   },
   "file_extension": ".py",
   "mimetype": "text/x-python",
   "name": "python",
   "nbconvert_exporter": "python",
   "pygments_lexer": "ipython3",
   "version": "3.8.5"
  }
 },
 "nbformat": 4,
 "nbformat_minor": 4
}
